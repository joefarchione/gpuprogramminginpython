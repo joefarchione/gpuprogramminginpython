{
 "cells": [
  {
   "cell_type": "markdown",
   "id": "96134abe-3094-426a-bdd2-ca8158fca754",
   "metadata": {},
   "source": [
    "# Monte Carlo via CPU & GPU"
   ]
  },
  {
   "cell_type": "markdown",
   "id": "bfe32251-dbec-4f9b-b526-d4349d358776",
   "metadata": {},
   "source": [
    "## CPU"
   ]
  },
  {
   "cell_type": "code",
   "execution_count": 1,
   "id": "6cc6b79f-f72d-40ff-a498-a9af35b6cb70",
   "metadata": {},
   "outputs": [],
   "source": [
    "import numpy as np"
   ]
  },
  {
   "cell_type": "code",
   "execution_count": 13,
   "id": "0648ca85-d930-4609-8eff-2c72dc56a251",
   "metadata": {},
   "outputs": [],
   "source": [
    "def calculate_asian_payoff_cpu(\n",
    "    initial: float,\n",
    "    r: float,\n",
    "    v: float,\n",
    "    dt: float,\n",
    "    strike: float,\n",
    "    nsim: int,\n",
    "    nsteps: int,\n",
    "    length: float,\n",
    ") -> float:\n",
    "    # intialize vectors\n",
    "    St = np.zeros(shape=(nsim, nsteps+1))\n",
    "    St[:, 0] = initial\n",
    "\n",
    "    # calculate increments\n",
    "    increments = calculate_increments_cpu(r, v, dt, nsim, nsteps)\n",
    "\n",
    "    # calculate levels\n",
    "    St[:, 1:] = initial * np.exp(increments.cumsum(axis=1))\n",
    "\n",
    "    # calculate payoff at time T\n",
    "    average = St.mean(axis=1)\n",
    "    payoff = np.maximum(average - strike, 0.0)\n",
    "    average_payoff = payoff.mean()\n",
    "\n",
    "    # discount average payoff to time 0\n",
    "    discount_factor = np.exp(-r * length)\n",
    "    epv_payoff = average_payoff * discount_factor\n",
    "\n",
    "    return epv_payoff\n",
    "\n",
    "\n",
    "def calculate_increments_cpu(\n",
    "    r: float,\n",
    "    v: float,\n",
    "    dt: float,\n",
    "    nsim: int,\n",
    "    nsteps: int,\n",
    "):\n",
    "    drift = (r - 0.5 * v * v) * dt\n",
    "    diffusion = v * np.sqrt(dt)\n",
    "    dWt = np.random.default_rng(1234).standard_normal((nsim, nsteps))\n",
    "\n",
    "    increments = drift + diffusion * dWt\n",
    "    return increments"
   ]
  },
  {
   "cell_type": "markdown",
   "id": "660ee23e-44c1-4804-aff2-2eb26815a49f",
   "metadata": {},
   "source": [
    "## GPU "
   ]
  },
  {
   "cell_type": "code",
   "execution_count": 3,
   "id": "35bd1ffc-7990-4748-b28d-bcd71f3a7293",
   "metadata": {},
   "outputs": [],
   "source": [
    "import numpy as np\n",
    "from numba import cuda\n",
    "from math import exp, sqrt, ceil\n",
    "from numba.cuda.random import xoroshiro128p_normal_float32, create_xoroshiro128p_states"
   ]
  },
  {
   "cell_type": "code",
   "execution_count": 4,
   "id": "e9861d91-a49e-4880-90f5-9be67268a3a4",
   "metadata": {},
   "outputs": [],
   "source": [
    "@cuda.jit\n",
    "def calculate_asian_payoff_gpu(\n",
    "    initial: np.float32,\n",
    "    r: np.float32,\n",
    "    v: np.float32,\n",
    "    dt: np.float32,\n",
    "    strike: np.float32,\n",
    "    nsteps: np.float32,\n",
    "    length: np.int32,\n",
    "    rng_states,\n",
    "    epv_payoff: np.ndarray,\n",
    "):\n",
    "    # get index of current thread\n",
    "    thread_index = cuda.grid(1) \n",
    "\n",
    "    # check that thread index is within bounds of output\n",
    "    if thread_index < len(epv_payoff):\n",
    "        # intialize variables (local memory)\n",
    "        St = initial\n",
    "        cumm_sum = St\n",
    "\n",
    "        # iterate through each time step\n",
    "        for _ in range(nsteps):\n",
    "            # calculate next increment\n",
    "            increment = calculate_increment_gpu(r, v, dt, rng_states, thread_index)\n",
    "\n",
    "            # calculate next level\n",
    "            St *= exp(increment)\n",
    "\n",
    "            # add next level to cummulative sum\n",
    "            cumm_sum += St\n",
    "\n",
    "        # calculate average level\n",
    "        average = cumm_sum / (nsteps + 1.0)\n",
    "\n",
    "        # calculate payoff at time T\n",
    "        payoff = max(average - strike, 0.0)\n",
    "\n",
    "        # discount payoff back to time 0\n",
    "        discount_factor = exp(-r * length)\n",
    "        epv_payoff[thread_index] = payoff * discount_factor\n",
    "\n",
    "\n",
    "@cuda.jit(device=True)\n",
    "def calculate_increment_gpu(\n",
    "    r: np.float32,\n",
    "    v: np.float32,\n",
    "    dt: np.float32,\n",
    "    rng_states,\n",
    "    thread_index,\n",
    ") -> np.float32:\n",
    "    drift = (r - 0.5 * v * v) * dt\n",
    "    diffusion = v * sqrt(dt)\n",
    "    dWt = xoroshiro128p_normal_float32(rng_states, thread_index)\n",
    "\n",
    "    increment = drift + diffusion * dWt\n",
    "    return increment"
   ]
  },
  {
   "cell_type": "markdown",
   "id": "92c00d75-b8de-4a88-afab-97160e0d459e",
   "metadata": {},
   "source": [
    "## Executing"
   ]
  },
  {
   "cell_type": "markdown",
   "id": "d3466cbd-8e2d-4784-bd5b-f7c3f62c3994",
   "metadata": {},
   "source": [
    "### Initial Parameters"
   ]
  },
  {
   "cell_type": "code",
   "execution_count": 5,
   "id": "4d1d1ded-772f-44f3-8cfb-5606c2a9bff5",
   "metadata": {},
   "outputs": [],
   "source": [
    "initial = 1.0    # initial stock price\n",
    "r = 0.05         # growth rate\n",
    "v = 0.20         # volatility (sigma)\n",
    "dt = 1 / 365     # time step\n",
    "nsteps = 365     # number of time steps\n",
    "length = 1.0     # length of projection (dt*nsteps)\n",
    "strike = 1.0     # K = strike price\n",
    "\n",
    "nsim = 2**20    # number of simulations = 1_048_576"
   ]
  },
  {
   "cell_type": "markdown",
   "id": "879d121a-78a3-447f-8665-02ac1f865d85",
   "metadata": {},
   "source": [
    "### Declaring grid"
   ]
  },
  {
   "cell_type": "code",
   "execution_count": 6,
   "id": "e648956a-4a97-4d38-b21a-8297371161e1",
   "metadata": {},
   "outputs": [],
   "source": [
    "threads_per_block = 2**7 # = 128\n",
    "blocks = ceil(nsim / threads_per_block)"
   ]
  },
  {
   "cell_type": "markdown",
   "id": "c7564f64-3ece-4b7b-b255-f2d519fde64a",
   "metadata": {},
   "source": [
    "### GPU RNG states"
   ]
  },
  {
   "cell_type": "code",
   "execution_count": 7,
   "id": "76873254-ecc6-4f1e-a116-2529e524b8ee",
   "metadata": {},
   "outputs": [],
   "source": [
    "# set RNG state for each thread with a seed\n",
    "rng_states = create_xoroshiro128p_states(threads_per_block * blocks, seed=1)"
   ]
  },
  {
   "cell_type": "markdown",
   "id": "53a471fb-fb15-43d0-91c8-2999a198ffae",
   "metadata": {},
   "source": [
    "### Declaring output variable"
   ]
  },
  {
   "cell_type": "code",
   "execution_count": 8,
   "id": "aba10775-33e5-4729-a5d7-824406168e01",
   "metadata": {},
   "outputs": [],
   "source": [
    "pv_payoffs = np.zeros(nsim, dtype=np.float32)"
   ]
  },
  {
   "cell_type": "markdown",
   "id": "0ce676fc-ba3f-4fe6-958e-245323689b27",
   "metadata": {},
   "source": [
    "### Executing kernel"
   ]
  },
  {
   "cell_type": "code",
   "execution_count": 9,
   "id": "60cc2cff-6025-44d5-adf5-864f2c841ca5",
   "metadata": {},
   "outputs": [
    {
     "name": "stdout",
     "output_type": "stream",
     "text": [
      "CPU times: user 459 ms, sys: 0 ns, total: 459 ms\n",
      "Wall time: 459 ms\n"
     ]
    },
    {
     "name": "stderr",
     "output_type": "stream",
     "text": [
      "/usr/local/lib/python3.10/dist-packages/numba/cuda/cudadrv/devicearray.py:886: NumbaPerformanceWarning: Host array used in CUDA kernel will incur copy overhead to/from device.\n",
      "  warn(NumbaPerformanceWarning(msg))\n"
     ]
    }
   ],
   "source": [
    "%%time\n",
    "calculate_asian_payoff_gpu[blocks, threads_per_block](\n",
    "    initial,\n",
    "    r,\n",
    "    v,\n",
    "    dt,\n",
    "    strike,\n",
    "    nsteps,\n",
    "    length,\n",
    "    rng_states,\n",
    "    pv_payoffs,\n",
    ")"
   ]
  },
  {
   "cell_type": "code",
   "execution_count": 10,
   "id": "14dc55c5-846d-4a33-88ed-e6c798a4952e",
   "metadata": {},
   "outputs": [],
   "source": [
    "epv_payoff = pv_payoffs.mean()"
   ]
  },
  {
   "cell_type": "code",
   "execution_count": 11,
   "id": "cd8d843b-7c67-479e-90d8-2e970e1e11de",
   "metadata": {},
   "outputs": [
    {
     "name": "stdout",
     "output_type": "stream",
     "text": [
      "0.057646543\n"
     ]
    }
   ],
   "source": [
    "print(epv_payoff)"
   ]
  },
  {
   "cell_type": "markdown",
   "id": "ed4c9aeb-b831-4951-a07b-7d29f7be8421",
   "metadata": {},
   "source": [
    "### Executing CPU version"
   ]
  },
  {
   "cell_type": "code",
   "execution_count": 14,
   "id": "ed2a80e2-c13b-477e-b67d-c4f961aae920",
   "metadata": {},
   "outputs": [
    {
     "name": "stdout",
     "output_type": "stream",
     "text": [
      "CPU times: user 8.19 s, sys: 3.13 s, total: 11.3 s\n",
      "Wall time: 11.3 s\n"
     ]
    }
   ],
   "source": [
    "%%time\n",
    "epv_payoff_cpu = calculate_asian_payoff_cpu(initial, r, v, dt, strike, nsim, nsteps, length)"
   ]
  },
  {
   "cell_type": "code",
   "execution_count": 15,
   "id": "aec52919-aadf-4f99-83da-4128e107615d",
   "metadata": {},
   "outputs": [
    {
     "data": {
      "text/plain": [
       "0.05767875469304373"
      ]
     },
     "execution_count": 15,
     "metadata": {},
     "output_type": "execute_result"
    }
   ],
   "source": [
    "epv_payoff_cpu"
   ]
  },
  {
   "cell_type": "code",
   "execution_count": null,
   "id": "68b8d932-9594-4e55-bd3a-125f6dc40aa2",
   "metadata": {},
   "outputs": [],
   "source": []
  }
 ],
 "metadata": {
  "kernelspec": {
   "display_name": "Python 3 (ipykernel)",
   "language": "python",
   "name": "python3"
  },
  "language_info": {
   "codemirror_mode": {
    "name": "ipython",
    "version": 3
   },
   "file_extension": ".py",
   "mimetype": "text/x-python",
   "name": "python",
   "nbconvert_exporter": "python",
   "pygments_lexer": "ipython3",
   "version": "3.10.12"
  }
 },
 "nbformat": 4,
 "nbformat_minor": 5
}
