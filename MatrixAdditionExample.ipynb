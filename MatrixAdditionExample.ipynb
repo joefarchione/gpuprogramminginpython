{
 "cells": [
  {
   "cell_type": "code",
   "execution_count": 1,
   "id": "f24476f5-23a9-48bc-bd2e-eb18dc2b6e33",
   "metadata": {},
   "outputs": [],
   "source": [
    "import numpy as np\n",
    "import math\n",
    "from numba import cuda"
   ]
  },
  {
   "cell_type": "code",
   "execution_count": 2,
   "id": "42fc9140-3f2b-4684-b98e-b4666988d2ce",
   "metadata": {},
   "outputs": [],
   "source": [
    "@cuda.jit\n",
    "def kernel(A, B, C):\n",
    "    \"\"\"A + B = C\"\"\"\n",
    "    # Get index of thread launched in a 2 dimensional grid\n",
    "    ii, jj = cuda.grid(2)\n",
    "\n",
    "    # check if thread index corresponds to indices of matrices\n",
    "    if (ii < A.shape[0]) and (jj < A.shape[1]):\n",
    "        # C_ij = A_ij + B_ij\n",
    "        C[ii, jj] = A[ii, jj] + B[ii, jj]"
   ]
  },
  {
   "cell_type": "code",
   "execution_count": 3,
   "id": "8e297f96-e955-4ae0-8a6f-df146286a32d",
   "metadata": {},
   "outputs": [],
   "source": [
    "N = 10240\n",
    "\n",
    "A = np.random.randn(N, N).astype(np.float32)\n",
    "B = np.random.randn(N, N).astype(np.float32)\n",
    "\n",
    "C = np.zeros((N, N), dtype=np.float32)"
   ]
  },
  {
   "cell_type": "code",
   "execution_count": 4,
   "id": "535bd3d8-35f0-4ebc-ab2f-794ef0cb58f3",
   "metadata": {},
   "outputs": [],
   "source": [
    "threads_per_block = (16, 16)\n",
    "number_of_blocks = (math.ceil(N / 16), math.ceil(N / 16))"
   ]
  },
  {
   "cell_type": "code",
   "execution_count": 5,
   "id": "ad791418-41dc-4a1f-bf1e-7d7ce27d977c",
   "metadata": {},
   "outputs": [
    {
     "name": "stderr",
     "output_type": "stream",
     "text": [
      "/usr/local/lib/python3.10/dist-packages/numba/cuda/cudadrv/devicearray.py:886: NumbaPerformanceWarning: Host array used in CUDA kernel will incur copy overhead to/from device.\n",
      "  warn(NumbaPerformanceWarning(msg))\n"
     ]
    }
   ],
   "source": [
    "kernel[number_of_blocks, threads_per_block](A, B, C)"
   ]
  },
  {
   "cell_type": "code",
   "execution_count": 6,
   "id": "436f1491-b4e2-48ae-8414-52e306a11fc8",
   "metadata": {},
   "outputs": [
    {
     "data": {
      "text/plain": [
       "True"
      ]
     },
     "execution_count": 6,
     "metadata": {},
     "output_type": "execute_result"
    }
   ],
   "source": [
    "(C == (A + B)).all()"
   ]
  },
  {
   "cell_type": "code",
   "execution_count": null,
   "id": "16ed2f9c-d0ab-4efc-ad40-d458c64d1991",
   "metadata": {},
   "outputs": [],
   "source": []
  }
 ],
 "metadata": {
  "kernelspec": {
   "display_name": "Python 3 (ipykernel)",
   "language": "python",
   "name": "python3"
  },
  "language_info": {
   "codemirror_mode": {
    "name": "ipython",
    "version": 3
   },
   "file_extension": ".py",
   "mimetype": "text/x-python",
   "name": "python",
   "nbconvert_exporter": "python",
   "pygments_lexer": "ipython3",
   "version": "3.10.12"
  }
 },
 "nbformat": 4,
 "nbformat_minor": 5
}
